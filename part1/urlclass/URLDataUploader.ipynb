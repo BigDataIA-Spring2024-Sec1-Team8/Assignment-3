{
 "cells": [
  {
   "cell_type": "code",
   "execution_count": 163,
   "metadata": {},
   "outputs": [
    {
     "data": {
      "text/plain": [
       "True"
      ]
     },
     "execution_count": 163,
     "metadata": {},
     "output_type": "execute_result"
    }
   ],
   "source": [
    "import pandas as pd\n",
    "from sqlalchemy import create_engine\n",
    "from sqlalchemy.orm import sessionmaker\n",
    "import snowflake.connector\n",
    "from model_orm import URLOrm, Base\n",
    "from models import URLClass\n",
    "from dotenv import load_dotenv\n",
    "import os\n",
    "\n",
    "# Load environment variables\n",
    "load_dotenv()"
   ]
  },
  {
   "cell_type": "markdown",
   "metadata": {},
   "source": [
    "### ORM CLASS\n"
   ]
  },
  {
   "cell_type": "code",
   "execution_count": 164,
   "metadata": {},
   "outputs": [],
   "source": [
    "from sqlalchemy import Column, Integer, String, Sequence\n",
    "from sqlalchemy.ext.declarative import declarative_base\n",
    "\n",
    "Base = declarative_base()\n",
    "\n",
    "class URLOrm(Base):\n",
    "    __tablename__ = 'url_data1'\n",
    "\n",
    "    id = Column(Integer, Sequence('url_table1_id_seq'), primary_key=True, autoincrement=True)\n",
    "    name_of_the_topic = Column(String)\n",
    "    year = Column(String)\n",
    "    level = Column(String)\n",
    "    topics = Column(String)\n",
    "    learning_outcomes = Column(String, default=\"Not Available\")\n",
    "    introduction = Column(String, default=\"Not Available\")\n",
    "    summary = Column(String, default=\"Not Available\")\n",
    "    link_to_the_pdf_file = Column(String, default=\"/\")\n",
    "    link_to_the_summary_page = Column(String, default=\"https://\")"
   ]
  },
  {
   "cell_type": "markdown",
   "metadata": {},
   "source": [
    "### LOAD ENVIRONMENT VARIABLES"
   ]
  },
  {
   "cell_type": "code",
   "execution_count": 165,
   "metadata": {},
   "outputs": [],
   "source": [
    "user = os.getenv('SNOWFLAKE_USER')\n",
    "password = os.getenv('SNOWFLAKE_PASSWORD')\n",
    "account = os.getenv('SNOWFLAKE_ACCOUNT')\n",
    "warehouse = os.getenv('SNOWFLAKE_WAREHOUSE')\n",
    "database = os.getenv('SNOWFLAKE_DATABASE')\n",
    "schema = os.getenv('SNOWFLAKE_SCHEMA')"
   ]
  },
  {
   "cell_type": "markdown",
   "metadata": {},
   "source": [
    "### Read and Pre-Process Data"
   ]
  },
  {
   "cell_type": "code",
   "execution_count": 166,
   "metadata": {},
   "outputs": [],
   "source": [
    "def read_csv(csv_path):\n",
    "    return pd.read_csv(csv_path)\n",
    "\n",
    "def process_data(df):\n",
    "    # Replace NaN values with None for compatibility with Snowflake\n",
    "    # df = df.where(pd.notnull(df), None)\n",
    "    df=df.fillna('')\n",
    "    # df = df.fillna('')\n",
    "    df['Year'] = df['Year'].replace('', '2024')\n",
    "    df['Year'] = df['Year'].astype(str).str.extract('(\\d+)').astype(float).astype(int)\n",
    "    # Stripping \"Curriculum\" from the 'Curriculum' column values\n",
    "    # df['Year'] = df['Year'].str.replace('Curriculum', '').str.strip()\n",
    "    \n",
    "    # Stripping \"CFA Program\" from the 'Level' column values\n",
    "    df['Level'] = df['Level'].str.replace('CFA Program', '').str.strip()\n",
    "    return df\n",
    "\n",
    "# Example usage:\n",
    "csv_path = '../resources/cfa_url/cfa_list_input.csv'\n",
    "df = read_csv(csv_path)\n",
    "df_processed = process_data(df)\n"
   ]
  },
  {
   "cell_type": "code",
   "execution_count": 167,
   "metadata": {},
   "outputs": [
    {
     "data": {
      "text/plain": [
       "Name of the topic            0\n",
       "Year                         0\n",
       "Level                        0\n",
       "Topics                       0\n",
       "Learning Outcomes Section    0\n",
       "Introduction                 0\n",
       "Summary Bullets              0\n",
       "Link to the PDF File         0\n",
       "Link to the Summary Page     0\n",
       "dtype: int64"
      ]
     },
     "execution_count": 167,
     "metadata": {},
     "output_type": "execute_result"
    }
   ],
   "source": [
    "df_processed.isna().sum()"
   ]
  },
  {
   "cell_type": "code",
   "execution_count": 168,
   "metadata": {},
   "outputs": [],
   "source": [
    "# df_processed.isna().sum()\n"
   ]
  },
  {
   "cell_type": "markdown",
   "metadata": {},
   "source": [
    "### Save Processed file "
   ]
  },
  {
   "cell_type": "code",
   "execution_count": 169,
   "metadata": {},
   "outputs": [
    {
     "name": "stdout",
     "output_type": "stream",
     "text": [
      "Processed DataFrame saved to ../resources/clean_csv/processed_content.csv\n"
     ]
    }
   ],
   "source": [
    "import os\n",
    "\n",
    "processed_csv_path = '../resources/clean_csv/processed_content.csv'\n",
    "\n",
    "# Ensure the directory exists; if not, create it\n",
    "os.makedirs(os.path.dirname(processed_csv_path), exist_ok=True)\n",
    "\n",
    "# Save the processed DataFrame to CSV\n",
    "\n",
    "print(f'Processed DataFrame saved to {processed_csv_path}')"
   ]
  },
  {
   "cell_type": "code",
   "execution_count": 170,
   "metadata": {},
   "outputs": [],
   "source": [
    "tp='prc.csv'\n",
    "df_processed.to_csv(tp, index=False)\n"
   ]
  },
  {
   "cell_type": "code",
   "execution_count": 171,
   "metadata": {},
   "outputs": [
    {
     "data": {
      "text/plain": [
       "Name of the topic            0\n",
       "Year                         0\n",
       "Level                        0\n",
       "Topics                       0\n",
       "Learning Outcomes Section    0\n",
       "Introduction                 0\n",
       "Summary Bullets              0\n",
       "Link to the PDF File         0\n",
       "Link to the Summary Page     0\n",
       "dtype: int64"
      ]
     },
     "execution_count": 171,
     "metadata": {},
     "output_type": "execute_result"
    }
   ],
   "source": [
    "df_processed.isna().sum()\n"
   ]
  },
  {
   "cell_type": "code",
   "execution_count": 172,
   "metadata": {},
   "outputs": [],
   "source": [
    "# l=pd.read_csv(tp)\n",
    "# l.isna().sum()"
   ]
  },
  {
   "cell_type": "markdown",
   "metadata": {},
   "source": [
    "### Create ORM INSTANCE"
   ]
  },
  {
   "cell_type": "code",
   "execution_count": 173,
   "metadata": {},
   "outputs": [],
   "source": [
    "def create_orm_instances(df):\n",
    "    orm_instances = []\n",
    "    for _, row in df.iterrows():\n",
    "        orm_instance = URLOrm(\n",
    "            name_of_the_topic=row['Name of the topic'],\n",
    "            year=str(row['Year']),  \n",
    "            level=row['Level'],\n",
    "            topics=row['Topics'],\n",
    "            learning_outcomes=row['Learning Outcomes Section'],\n",
    "            introduction=row['Introduction'],\n",
    "            summary=row['Summary Bullets'],\n",
    "            link_to_the_pdf_file=row['Link to the PDF File'],\n",
    "            link_to_the_summary_page=row['Link to the Summary Page']\n",
    "        )\n",
    "        orm_instances.append(orm_instance)\n",
    "    return orm_instances\n"
   ]
  },
  {
   "cell_type": "markdown",
   "metadata": {},
   "source": [
    "### Use Pydantic to Validate"
   ]
  },
  {
   "cell_type": "code",
   "execution_count": 174,
   "metadata": {},
   "outputs": [
    {
     "name": "stderr",
     "output_type": "stream",
     "text": [
      "/var/folders/6q/q891flcj0r375hpjwrt2wtbm0000gn/T/ipykernel_64126/3012125672.py:18: PydanticDeprecatedSince20: Pydantic V1 style `@validator` validators are deprecated. You should migrate to Pydantic V2 style `@field_validator` validators, see the migration guide for more details. Deprecated in Pydantic V2.0 to be removed in V3.0. See Pydantic V2 Migration Guide at https://errors.pydantic.dev/2.6/migration/\n",
      "  @validator('year')\n",
      "/var/folders/6q/q891flcj0r375hpjwrt2wtbm0000gn/T/ipykernel_64126/3012125672.py:24: PydanticDeprecatedSince20: Pydantic V1 style `@validator` validators are deprecated. You should migrate to Pydantic V2 style `@field_validator` validators, see the migration guide for more details. Deprecated in Pydantic V2.0 to be removed in V3.0. See Pydantic V2 Migration Guide at https://errors.pydantic.dev/2.6/migration/\n",
      "  @validator('level')\n",
      "/var/folders/6q/q891flcj0r375hpjwrt2wtbm0000gn/T/ipykernel_64126/3012125672.py:30: PydanticDeprecatedSince20: Pydantic V1 style `@validator` validators are deprecated. You should migrate to Pydantic V2 style `@field_validator` validators, see the migration guide for more details. Deprecated in Pydantic V2.0 to be removed in V3.0. See Pydantic V2 Migration Guide at https://errors.pydantic.dev/2.6/migration/\n",
      "  @validator('learning_outcomes', 'introduction', 'summary', pre=True)\n",
      "/var/folders/6q/q891flcj0r375hpjwrt2wtbm0000gn/T/ipykernel_64126/3012125672.py:34: PydanticDeprecatedSince20: Pydantic V1 style `@validator` validators are deprecated. You should migrate to Pydantic V2 style `@field_validator` validators, see the migration guide for more details. Deprecated in Pydantic V2.0 to be removed in V3.0. See Pydantic V2 Migration Guide at https://errors.pydantic.dev/2.6/migration/\n",
      "  @validator('link_to_the_pdf_file')\n",
      "/var/folders/6q/q891flcj0r375hpjwrt2wtbm0000gn/T/ipykernel_64126/3012125672.py:40: PydanticDeprecatedSince20: Pydantic V1 style `@validator` validators are deprecated. You should migrate to Pydantic V2 style `@field_validator` validators, see the migration guide for more details. Deprecated in Pydantic V2.0 to be removed in V3.0. See Pydantic V2 Migration Guide at https://errors.pydantic.dev/2.6/migration/\n",
      "  @validator('link_to_the_summary_page')\n",
      "/opt/homebrew/lib/python3.11/site-packages/pydantic/_internal/_model_construction.py:53: UserWarning: `validate_pdf_link` overrides an existing Pydantic `@validator` decorator\n",
      "  warnings.warn(f'`{k}` overrides an existing Pydantic `{existing.decorator_info.decorator_repr}` decorator')\n",
      "/opt/homebrew/lib/python3.11/site-packages/pydantic/_internal/_config.py:322: UserWarning: Valid config keys have changed in V2:\n",
      "* 'anystr_strip_whitespace' has been renamed to 'str_strip_whitespace'\n",
      "  warnings.warn(message, UserWarning)\n"
     ]
    }
   ],
   "source": [
    "from pydantic import BaseModel, constr, Field, validator\n",
    "from typing import Optional, Any\n",
    "from typing_extensions import Annotated\n",
    "\n",
    "class URLClass(BaseModel):\n",
    "    # id: int\n",
    "    name_of_the_topic: Annotated[str, Field(alias='name_of_the_topic')]\n",
    "    year: int = Field(..., ge=1900, le=2024)\n",
    "    level: Annotated[str, Field(alias='level')]\n",
    "    topics: constr(strict=True, min_length=1)\n",
    "    learning_outcomes: Annotated[str, Field(alias='learning_outcomes')]\n",
    "    introduction: Annotated[Optional[str], Field(alias='Introduction', default=\"Not Available\")]\n",
    "    summary: Annotated[Optional[str], Field(alias='Summary', default=\"Not Available\")]\n",
    "    link_to_the_pdf_file: Annotated[Optional[str], Field(alias='Link to the PDF file',default=\"/\")]\n",
    "    link_to_the_summary_page: Annotated[Optional[str], Field(alias='Link to the Summary Page', default=\"/\")]\n",
    "\n",
    "\n",
    "    @validator('year')\n",
    "    def validate_curriculum_year(cls, value):\n",
    "        if value < 1900 or value > 2024:\n",
    "            raise ValueError('Curriculum year must be between 1900 and 2024')\n",
    "        return value\n",
    "\n",
    "    @validator('level')\n",
    "    def validate_level(cls, value):\n",
    "        if not value.startswith('Level'):\n",
    "            raise ValueError('Level must start with the keyword \"Level\"')\n",
    "        return value\n",
    "\n",
    "    @validator('learning_outcomes', 'introduction', 'summary', pre=True)\n",
    "    def default_not_available_if_empty(cls, value):\n",
    "        return value if value else \"Not Available\"\n",
    "\n",
    "    @validator('link_to_the_pdf_file')\n",
    "    def validate_pdf_link(cls, value):\n",
    "        if not value.endswith('.pdf'):\n",
    "            raise ValueError('PDF link must end with .pdf')\n",
    "        return value\n",
    "\n",
    "    @validator('link_to_the_summary_page')\n",
    "    def validate_pdf_link(cls, value):\n",
    "        if not value.startswith('https://'):\n",
    "            raise ValueError('Link to summary page must start with https://')\n",
    "        return value\n",
    "    class Config:\n",
    "        anystr_strip_whitespace = True\n",
    "\n"
   ]
  },
  {
   "cell_type": "markdown",
   "metadata": {},
   "source": [
    "### To convert ORM instance to Pydantic"
   ]
  },
  {
   "cell_type": "code",
   "execution_count": 175,
   "metadata": {},
   "outputs": [],
   "source": [
    "\n",
    "from pydantic import BaseModel, Field, validator, ValidationError\n",
    "\n",
    "def orm_instance_to_pydantic(orm_instance):\n",
    "    try:\n",
    "        return URLClass(**orm_instance.__dict__)\n",
    "    except ValidationError as e:\n",
    "        # Handle or log the validation error\n",
    "        print(f\"Validation error for {orm_instance.name_of_the_topic}: {e}\")\n",
    "\n",
    "def convert_to_pydantic_instances(orm_instances):\n",
    "    # Removed 'self' since this function is used as a standalone\n",
    "    return [orm_instance_to_pydantic(orm_instance) for orm_instance in orm_instances]\n",
    "\n"
   ]
  },
  {
   "cell_type": "code",
   "execution_count": 176,
   "metadata": {},
   "outputs": [],
   "source": [
    "def create_orm_instances_and_validate_using_pydantic(path):\n",
    "    try:\n",
    "        df = pd.read_csv(path)\n",
    "        df=df.fillna('')\n",
    "        orm_instances = create_orm_instances(df)\n",
    "        # for i in orm_instances:\n",
    "        #     print(i.name_of_the_topic)\n",
    "        pydantic_instances = convert_to_pydantic_instances(orm_instances)\n",
    "        print(f\"{len(pydantic_instances)} are validated\")\n",
    "        return orm_instances\n",
    "    except Exception as e:\n",
    "        print(str(e))\n",
    "        print(\"Error in validation\")"
   ]
  },
  {
   "cell_type": "code",
   "execution_count": null,
   "metadata": {},
   "outputs": [],
   "source": []
  },
  {
   "cell_type": "code",
   "execution_count": 177,
   "metadata": {},
   "outputs": [
    {
     "name": "stdout",
     "output_type": "stream",
     "text": [
      "224 are validated\n"
     ]
    }
   ],
   "source": [
    "orm_instances = create_orm_instances_and_validate_using_pydantic(processed_csv_path)"
   ]
  },
  {
   "cell_type": "markdown",
   "metadata": {},
   "source": [
    "### Upload to Snowflake"
   ]
  },
  {
   "cell_type": "code",
   "execution_count": 178,
   "metadata": {},
   "outputs": [],
   "source": [
    "def create_database_if_not_exists(engine, database):\n",
    "    connection = engine.connect()\n",
    "    connection.execute(f\"CREATE DATABASE IF NOT EXISTS {database}\")\n",
    "    connection.close()"
   ]
  },
  {
   "cell_type": "code",
   "execution_count": 179,
   "metadata": {},
   "outputs": [],
   "source": [
    "from sqlalchemy import create_engine\n",
    "from sqlalchemy.orm import sessionmaker\n",
    "from sqlalchemy.ext.declarative import declarative_base\n",
    "from sqlalchemy.schema import CreateTable\n",
    "\n",
    "Base = declarative_base()\n",
    "\n",
    "def upload_to_snowflake(engine, orm_instances, database):\n",
    "    create_database_if_not_exists(engine, database)\n",
    "    Base.metadata.bind = engine\n",
    "\n",
    "    if not engine.dialect.has_table(engine, URLOrm.__tablename__):  \n",
    "        URLOrm.__table__.create(bind=engine) \n",
    "    else:\n",
    "        print(f\"Table '{URLOrm.__tablename__}' already exists.\")  \n",
    "    \n",
    "    SessionClass = sessionmaker(bind=engine)\n",
    "    session = SessionClass()\n",
    "\n",
    "    total_instances = len(orm_instances)\n",
    "    progress_threshold = 10  \n",
    "\n",
    "    for idx, orm_instance in enumerate(orm_instances, start=1):\n",
    "        session.add(orm_instance)\n",
    "        if idx % progress_threshold == 0 or idx == total_instances:\n",
    "            session.commit()\n",
    "            print(f\"Inserted {idx}/{total_instances} records.\")\n",
    "\n",
    "    session.close()\n",
    "    print(\"All records have been inserted.\")\n"
   ]
  },
  {
   "cell_type": "code",
   "execution_count": 180,
   "metadata": {},
   "outputs": [
    {
     "name": "stdout",
     "output_type": "stream",
     "text": [
      "Table 'url_data1' already exists.\n",
      "Inserted 10/224 records.\n",
      "Inserted 20/224 records.\n",
      "Inserted 30/224 records.\n",
      "Inserted 40/224 records.\n",
      "Inserted 50/224 records.\n",
      "Inserted 60/224 records.\n",
      "Inserted 70/224 records.\n",
      "Inserted 80/224 records.\n",
      "Inserted 90/224 records.\n",
      "Inserted 100/224 records.\n",
      "Inserted 110/224 records.\n",
      "Inserted 120/224 records.\n",
      "Inserted 130/224 records.\n",
      "Inserted 140/224 records.\n",
      "Inserted 150/224 records.\n",
      "Inserted 160/224 records.\n",
      "Inserted 170/224 records.\n",
      "Inserted 180/224 records.\n",
      "Inserted 190/224 records.\n",
      "Inserted 200/224 records.\n",
      "Inserted 210/224 records.\n",
      "Inserted 220/224 records.\n",
      "Inserted 224/224 records.\n",
      "All records have been inserted.\n"
     ]
    }
   ],
   "source": [
    "engine = create_engine(\n",
    "    f'snowflake://{user}:{password}@{account}/{database}/{schema}?warehouse={warehouse}'\n",
    ")\n",
    "upload_to_snowflake(engine=engine, orm_instances=orm_instances, database=database)"
   ]
  },
  {
   "cell_type": "code",
   "execution_count": null,
   "metadata": {},
   "outputs": [],
   "source": []
  }
 ],
 "metadata": {
  "kernelspec": {
   "display_name": "Python 3.11.3 ('base')",
   "language": "python",
   "name": "python3"
  },
  "language_info": {
   "codemirror_mode": {
    "name": "ipython",
    "version": 3
   },
   "file_extension": ".py",
   "mimetype": "text/x-python",
   "name": "python",
   "nbconvert_exporter": "python",
   "pygments_lexer": "ipython3",
   "version": "3.11.2"
  },
  "orig_nbformat": 4,
  "vscode": {
   "interpreter": {
    "hash": "4c8b357a39b9cfa652ce5eb494eea21f40e33742edb285e95e5860972a45bd4f"
   }
  }
 },
 "nbformat": 4,
 "nbformat_minor": 2
}
